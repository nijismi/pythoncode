{
 "cells": [
  {
   "cell_type": "code",
   "execution_count": null,
   "metadata": {},
   "outputs": [],
   "source": [
    "[120,150,300,500,1000,100,2000]\n",
    "값에서 최소 최대 값을 뺀 평균을\n",
    "average 이름의 변수에 담으세요"
   ]
  },
  {
   "cell_type": "code",
   "execution_count": 9,
   "metadata": {},
   "outputs": [
    {
     "data": {
      "text/plain": [
       "[120, 150, 300, 500, 1000]"
      ]
     },
     "execution_count": 9,
     "metadata": {},
     "output_type": "execute_result"
    }
   ],
   "source": [
    "number = [120,150,300,500,1000,100,2000]\n",
    "number.remove(min(number))  #최소 값 제거\n",
    "number.remove(max(number))  #최대 값 제거\n",
    "number"
   ]
  },
  {
   "cell_type": "code",
   "execution_count": 20,
   "metadata": {},
   "outputs": [
    {
     "data": {
      "text/plain": [
       "414.0"
      ]
     },
     "execution_count": 20,
     "metadata": {},
     "output_type": "execute_result"
    }
   ],
   "source": [
    "number = [120, 150, 300, 500, 1000]\n",
    "average = sum(number)/len(number)  #전체 수를 더한 값/전체 수의 개수\n",
    "average"
   ]
  },
  {
   "cell_type": "code",
   "execution_count": 21,
   "metadata": {},
   "outputs": [
    {
     "data": {
      "text/plain": [
       "414.0"
      ]
     },
     "execution_count": 21,
     "metadata": {},
     "output_type": "execute_result"
    }
   ],
   "source": [
    "number = [120,150,300,500,1000,100,2000]\n",
    "number.remove(min(number))  #최소 값 제거\n",
    "number.remove(max(number))  #최대 값 제거\n",
    "average = sum(number)/len(number)  #전체 수를 더한 값/전체 수의 개수\n",
    "average"
   ]
  }
 ],
 "metadata": {
  "kernelspec": {
   "display_name": "Python 3",
   "language": "python",
   "name": "python3"
  },
  "language_info": {
   "codemirror_mode": {
    "name": "ipython",
    "version": 3
   },
   "file_extension": ".py",
   "mimetype": "text/x-python",
   "name": "python",
   "nbconvert_exporter": "python",
   "pygments_lexer": "ipython3",
   "version": "3.8.5"
  }
 },
 "nbformat": 4,
 "nbformat_minor": 4
}
